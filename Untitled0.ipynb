{
  "nbformat": 4,
  "nbformat_minor": 0,
  "metadata": {
    "colab": {
      "name": "Untitled0.ipynb",
      "provenance": [],
      "authorship_tag": "ABX9TyMEKcqyQIFxX8WKT3FyXq2k",
      "include_colab_link": true
    },
    "kernelspec": {
      "name": "python3",
      "display_name": "Python 3"
    }
  },
  "cells": [
    {
      "cell_type": "markdown",
      "metadata": {
        "id": "view-in-github",
        "colab_type": "text"
      },
      "source": [
        "<a href=\"https://colab.research.google.com/github/AmandeepSingh0/k-mean-clustering-of-a-dataset/blob/master/Untitled0.ipynb\" target=\"_parent\"><img src=\"https://colab.research.google.com/assets/colab-badge.svg\" alt=\"Open In Colab\"/></a>"
      ]
    },
    {
      "cell_type": "code",
      "metadata": {
        "id": "Fi4K9c9zbve6",
        "colab_type": "code",
        "colab": {}
      },
      "source": [
        "import numpy as np # linear algebra \n",
        "import pandas as pd # data processing, CSV file I/O (e.g. pd.read_csv)\n"
      ],
      "execution_count": 34,
      "outputs": []
    },
    {
      "cell_type": "code",
      "metadata": {
        "id": "vSkNGA_7mtkr",
        "colab_type": "code",
        "colab": {}
      },
      "source": [
        "url=\"https://raw.githubusercontent.com/AmandeepSingh0/k-mean-clustering-of-a-dataset/master/data%20(4).csv\"\n",
        "crime_rates=pd.read_csv(url,index_col=0)"
      ],
      "execution_count": 35,
      "outputs": []
    },
    {
      "cell_type": "code",
      "metadata": {
        "id": "SIQmWIM_dzzL",
        "colab_type": "code",
        "colab": {
          "base_uri": "https://localhost:8080/",
          "height": 195
        },
        "outputId": "d8e72660-e055-4027-d3a7-e5dbccc69576"
      },
      "source": [
        "crime_rates.head()"
      ],
      "execution_count": 36,
      "outputs": [
        {
          "output_type": "execute_result",
          "data": {
            "text/html": [
              "<div>\n",
              "<style scoped>\n",
              "    .dataframe tbody tr th:only-of-type {\n",
              "        vertical-align: middle;\n",
              "    }\n",
              "\n",
              "    .dataframe tbody tr th {\n",
              "        vertical-align: top;\n",
              "    }\n",
              "\n",
              "    .dataframe thead th {\n",
              "        text-align: right;\n",
              "    }\n",
              "</style>\n",
              "<table border=\"1\" class=\"dataframe\">\n",
              "  <thead>\n",
              "    <tr style=\"text-align: right;\">\n",
              "      <th></th>\n",
              "      <th>Murder</th>\n",
              "      <th>Assault</th>\n",
              "      <th>UrbanPop</th>\n",
              "      <th>Rape</th>\n",
              "      <th>cluster</th>\n",
              "    </tr>\n",
              "  </thead>\n",
              "  <tbody>\n",
              "    <tr>\n",
              "      <th>Alabama</th>\n",
              "      <td>13.2</td>\n",
              "      <td>236</td>\n",
              "      <td>58</td>\n",
              "      <td>21.2</td>\n",
              "      <td>2</td>\n",
              "    </tr>\n",
              "    <tr>\n",
              "      <th>Alaska</th>\n",
              "      <td>10.0</td>\n",
              "      <td>263</td>\n",
              "      <td>48</td>\n",
              "      <td>44.5</td>\n",
              "      <td>3</td>\n",
              "    </tr>\n",
              "    <tr>\n",
              "      <th>Arizona</th>\n",
              "      <td>8.1</td>\n",
              "      <td>294</td>\n",
              "      <td>80</td>\n",
              "      <td>31.0</td>\n",
              "      <td>3</td>\n",
              "    </tr>\n",
              "    <tr>\n",
              "      <th>Arkansas</th>\n",
              "      <td>8.8</td>\n",
              "      <td>190</td>\n",
              "      <td>50</td>\n",
              "      <td>19.5</td>\n",
              "      <td>2</td>\n",
              "    </tr>\n",
              "    <tr>\n",
              "      <th>California</th>\n",
              "      <td>9.0</td>\n",
              "      <td>276</td>\n",
              "      <td>91</td>\n",
              "      <td>40.6</td>\n",
              "      <td>3</td>\n",
              "    </tr>\n",
              "  </tbody>\n",
              "</table>\n",
              "</div>"
            ],
            "text/plain": [
              "            Murder  Assault  UrbanPop  Rape  cluster\n",
              "Alabama       13.2      236        58  21.2        2\n",
              "Alaska        10.0      263        48  44.5        3\n",
              "Arizona        8.1      294        80  31.0        3\n",
              "Arkansas       8.8      190        50  19.5        2\n",
              "California     9.0      276        91  40.6        3"
            ]
          },
          "metadata": {
            "tags": []
          },
          "execution_count": 36
        }
      ]
    },
    {
      "cell_type": "code",
      "metadata": {
        "id": "70_x0Db6d2Jo",
        "colab_type": "code",
        "colab": {
          "base_uri": "https://localhost:8080/",
          "height": 284
        },
        "outputId": "691010ef-8c18-41ad-fc7a-5df119034b53"
      },
      "source": [
        "crime_rates.describe()"
      ],
      "execution_count": 37,
      "outputs": [
        {
          "output_type": "execute_result",
          "data": {
            "text/html": [
              "<div>\n",
              "<style scoped>\n",
              "    .dataframe tbody tr th:only-of-type {\n",
              "        vertical-align: middle;\n",
              "    }\n",
              "\n",
              "    .dataframe tbody tr th {\n",
              "        vertical-align: top;\n",
              "    }\n",
              "\n",
              "    .dataframe thead th {\n",
              "        text-align: right;\n",
              "    }\n",
              "</style>\n",
              "<table border=\"1\" class=\"dataframe\">\n",
              "  <thead>\n",
              "    <tr style=\"text-align: right;\">\n",
              "      <th></th>\n",
              "      <th>Murder</th>\n",
              "      <th>Assault</th>\n",
              "      <th>UrbanPop</th>\n",
              "      <th>Rape</th>\n",
              "      <th>cluster</th>\n",
              "    </tr>\n",
              "  </thead>\n",
              "  <tbody>\n",
              "    <tr>\n",
              "      <th>count</th>\n",
              "      <td>50.00000</td>\n",
              "      <td>50.000000</td>\n",
              "      <td>50.000000</td>\n",
              "      <td>50.000000</td>\n",
              "      <td>50.000000</td>\n",
              "    </tr>\n",
              "    <tr>\n",
              "      <th>mean</th>\n",
              "      <td>7.78800</td>\n",
              "      <td>170.760000</td>\n",
              "      <td>65.540000</td>\n",
              "      <td>21.232000</td>\n",
              "      <td>2.460000</td>\n",
              "    </tr>\n",
              "    <tr>\n",
              "      <th>std</th>\n",
              "      <td>4.35551</td>\n",
              "      <td>83.337661</td>\n",
              "      <td>14.474763</td>\n",
              "      <td>9.366385</td>\n",
              "      <td>1.198809</td>\n",
              "    </tr>\n",
              "    <tr>\n",
              "      <th>min</th>\n",
              "      <td>0.80000</td>\n",
              "      <td>45.000000</td>\n",
              "      <td>32.000000</td>\n",
              "      <td>7.300000</td>\n",
              "      <td>1.000000</td>\n",
              "    </tr>\n",
              "    <tr>\n",
              "      <th>25%</th>\n",
              "      <td>4.07500</td>\n",
              "      <td>109.000000</td>\n",
              "      <td>54.500000</td>\n",
              "      <td>15.075000</td>\n",
              "      <td>1.000000</td>\n",
              "    </tr>\n",
              "    <tr>\n",
              "      <th>50%</th>\n",
              "      <td>7.25000</td>\n",
              "      <td>159.000000</td>\n",
              "      <td>66.000000</td>\n",
              "      <td>20.100000</td>\n",
              "      <td>3.000000</td>\n",
              "    </tr>\n",
              "    <tr>\n",
              "      <th>75%</th>\n",
              "      <td>11.25000</td>\n",
              "      <td>249.000000</td>\n",
              "      <td>77.750000</td>\n",
              "      <td>26.175000</td>\n",
              "      <td>3.750000</td>\n",
              "    </tr>\n",
              "    <tr>\n",
              "      <th>max</th>\n",
              "      <td>17.40000</td>\n",
              "      <td>337.000000</td>\n",
              "      <td>91.000000</td>\n",
              "      <td>46.000000</td>\n",
              "      <td>4.000000</td>\n",
              "    </tr>\n",
              "  </tbody>\n",
              "</table>\n",
              "</div>"
            ],
            "text/plain": [
              "         Murder     Assault   UrbanPop       Rape    cluster\n",
              "count  50.00000   50.000000  50.000000  50.000000  50.000000\n",
              "mean    7.78800  170.760000  65.540000  21.232000   2.460000\n",
              "std     4.35551   83.337661  14.474763   9.366385   1.198809\n",
              "min     0.80000   45.000000  32.000000   7.300000   1.000000\n",
              "25%     4.07500  109.000000  54.500000  15.075000   1.000000\n",
              "50%     7.25000  159.000000  66.000000  20.100000   3.000000\n",
              "75%    11.25000  249.000000  77.750000  26.175000   3.750000\n",
              "max    17.40000  337.000000  91.000000  46.000000   4.000000"
            ]
          },
          "metadata": {
            "tags": []
          },
          "execution_count": 37
        }
      ]
    },
    {
      "cell_type": "code",
      "metadata": {
        "id": "KzTh1KOsd4o5",
        "colab_type": "code",
        "colab": {
          "base_uri": "https://localhost:8080/",
          "height": 857
        },
        "outputId": "1a35bbab-0751-4621-cba1-1fb678d77dd0"
      },
      "source": [
        "#standardize the data to normal distribution\n",
        "from sklearn import preprocessing\n",
        "crime_rates_standardized = preprocessing.scale(crime_rates)\n",
        "print(crime_rates_standardized)\n",
        "crime_rates_standardized = pd.DataFrame(crime_rates_standardized)"
      ],
      "execution_count": 38,
      "outputs": [
        {
          "output_type": "stream",
          "text": [
            "[[ 1.25517927  0.79078716 -0.52619514 -0.00345116 -0.38760987]\n",
            " [ 0.51301858  1.11805959 -1.22406668  2.50942392  0.45502028]\n",
            " [ 0.07236067  1.49381682  1.00912225  1.05346626  0.45502028]\n",
            " [ 0.23470832  0.23321191 -1.08449238 -0.18679398 -0.38760987]\n",
            " [ 0.28109336  1.2756352   1.77678094  2.08881393  0.45502028]\n",
            " [ 0.02597562  0.40290872  0.86954794  1.88390137  0.45502028]\n",
            " [-1.04088037 -0.73648418  0.79976079 -1.09272319 -1.23024001]\n",
            " [-0.43787481  0.81502956  0.45082502 -0.58583422 -1.23024001]\n",
            " [ 1.76541475  1.99078607  1.00912225  1.1505301   0.45502028]\n",
            " [ 2.22926518  0.48775713 -0.38662083  0.49265293 -0.38760987]\n",
            " [-0.57702994 -1.51224105  1.21848371 -0.11129987 -1.23024001]\n",
            " [-1.20322802 -0.61527217 -0.80534376 -0.75839217  1.29765042]\n",
            " [ 0.60578867  0.94836277  1.21848371  0.29852525  0.45502028]\n",
            " [-0.13637203 -0.70012057 -0.03768506 -0.0250209  -1.23024001]\n",
            " [-1.29599811 -1.39102904 -0.5959823  -1.07115345  1.29765042]\n",
            " [-0.41468229 -0.67587817  0.03210209 -0.34856705 -1.23024001]\n",
            " [ 0.44344101 -0.74860538 -0.94491807 -0.53190987  1.29765042]\n",
            " [ 1.76541475  0.94836277  0.03210209  0.10439756 -0.38760987]\n",
            " [-1.31919063 -1.06375661 -1.01470522 -1.44862395  1.29765042]\n",
            " [ 0.81452136  1.56654403  0.10188925  0.70835037  0.45502028]\n",
            " [-0.78576263 -0.26375734  1.35805802 -0.53190987 -1.23024001]\n",
            " [ 1.00006153  1.02108998  0.59039932  1.49564599  0.45502028]\n",
            " [-1.1800355  -1.19708982  0.03210209 -0.68289807  1.29765042]\n",
            " [ 1.9277624   1.06957478 -1.5032153  -0.44563089 -0.38760987]\n",
            " [ 0.28109336  0.0877575   0.31125071  0.75148985  0.45502028]\n",
            " [-0.41468229 -0.74860538 -0.87513091 -0.521125    1.29765042]\n",
            " [-0.80895515 -0.83345379 -0.24704653 -0.51034012  1.29765042]\n",
            " [ 1.02325405  0.98472638  1.0789094   2.671197    0.45502028]\n",
            " [-1.31919063 -1.37890783 -0.66576945 -1.26528114  1.29765042]\n",
            " [-0.08998698 -0.14254532  1.63720664 -0.26228808 -1.23024001]\n",
            " [ 0.83771388  1.38472601  0.31125071  1.17209984  0.45502028]\n",
            " [ 0.76813632  1.00896878  1.42784517  0.52500755  0.45502028]\n",
            " [ 1.20879423  2.01502847 -1.43342815 -0.55347961 -0.38760987]\n",
            " [-1.62069341 -1.52436225 -1.5032153  -1.50254831  1.29765042]\n",
            " [-0.11317951 -0.61527217  0.66018648  0.01811858 -1.23024001]\n",
            " [-0.27552716 -0.23951493  0.1716764  -0.13286962 -1.23024001]\n",
            " [-0.66980002 -0.14254532  0.10188925  0.87012344 -1.23024001]\n",
            " [-0.34510472 -0.78496898  0.45082502 -0.68289807 -1.23024001]\n",
            " [-1.01768785  0.03927269  1.49763233 -1.39469959 -1.23024001]\n",
            " [ 1.53348953  1.3119988  -1.22406668  0.13675217 -0.38760987]\n",
            " [-0.92491776 -1.027393   -1.43342815 -0.90938037  1.29765042]\n",
            " [ 1.25517927  0.20896951 -0.45640799  0.61128652 -0.38760987]\n",
            " [ 1.13921666  0.36654512  1.00912225  0.46029832  0.45502028]\n",
            " [-1.06407289 -0.61527217  1.00912225  0.17989166 -1.23024001]\n",
            " [-1.29599811 -1.48799864 -2.34066115 -1.08193832  1.29765042]\n",
            " [ 0.16513075 -0.17890893 -0.17725937 -0.05737552 -1.23024001]\n",
            " [-0.87853272 -0.31224214  0.52061217  0.53579242 -1.23024001]\n",
            " [-0.48425985 -1.08799901 -1.85215107 -1.28685088  1.29765042]\n",
            " [-1.20322802 -1.42739264  0.03210209 -1.1250778   1.29765042]\n",
            " [-0.22914211 -0.11830292 -0.38662083 -0.60740397 -1.23024001]]\n"
          ],
          "name": "stdout"
        }
      ]
    },
    {
      "cell_type": "code",
      "metadata": {
        "id": "ttJBGfHXd7uC",
        "colab_type": "code",
        "colab": {
          "base_uri": "https://localhost:8080/",
          "height": 513
        },
        "outputId": "e8a28a81-795a-4119-be4f-82287d1f8862"
      },
      "source": [
        "from sklearn.cluster import KMeans\n",
        "import matplotlib.pyplot as plt\n",
        "%matplotlib inline\n",
        "\n",
        "plt.figure(figsize=(10, 8))\n",
        "wcss = []\n",
        "for i in range(1, 11):\n",
        "    kmeans = KMeans(n_clusters = i, init = 'k-means++', random_state = 42)\n",
        "    kmeans.fit(crime_rates_standardized)\n",
        "    wcss.append(kmeans.inertia_) #criterion based on which K-means clustering works\n",
        "plt.plot(range(1, 11), wcss)\n",
        "plt.title('The Elbow Method')\n",
        "plt.xlabel('Number of clusters')\n",
        "plt.ylabel('WCSS')\n",
        "plt.show()"
      ],
      "execution_count": 39,
      "outputs": [
        {
          "output_type": "display_data",
          "data": {
            "image/png": "[encoded data removed]",
            "text/plain": [
              "<Figure size 720x576 with 1 Axes>"
            ]
          },
          "metadata": {
            "tags": [],
            "needs_background": "light"
          }
        }
      ]
    },
    {
      "cell_type": "code",
      "metadata": {
        "id": "FZHZmBi_eAdD",
        "colab_type": "code",
        "colab": {
          "base_uri": "https://localhost:8080/",
          "height": 67
        },
        "outputId": "ee2b4c15-5adc-43fd-d1d2-c82e7661b1a6"
      },
      "source": [
        "# Fitting K-Means to the dataset\n",
        "kmeans = KMeans(n_clusters = 4, init = 'k-means++', random_state = 42)\n",
        "y_kmeans = kmeans.fit_predict(crime_rates_standardized)\n",
        "\n",
        "y_kmeans"
      ],
      "execution_count": 40,
      "outputs": [
        {
          "output_type": "execute_result",
          "data": {
            "text/plain": [
              "array([3, 0, 0, 3, 0, 0, 1, 1, 0, 3, 1, 2, 0, 1, 2, 1, 2, 3, 2, 0, 1, 0,\n",
              "       2, 3, 0, 2, 2, 0, 2, 1, 0, 0, 3, 2, 1, 1, 1, 1, 1, 3, 2, 3, 0, 1,\n",
              "       2, 1, 1, 2, 2, 1], dtype=int32)"
            ]
          },
          "metadata": {
            "tags": []
          },
          "execution_count": 40
        }
      ]
    },
    {
      "cell_type": "code",
      "metadata": {
        "id": "fBA4UY8beDKc",
        "colab_type": "code",
        "colab": {}
      },
      "source": [
        "#beginning of  the cluster numbering with 1 instead of 0\n",
        "y_kmeans1=y_kmeans+1\n",
        "\n",
        "# New list called cluster\n",
        "cluster = list(y_kmeans1)\n",
        "# Adding cluster to our data set\n",
        "crime_rates['cluster'] = cluster"
      ],
      "execution_count": 41,
      "outputs": []
    },
    {
      "cell_type": "code",
      "metadata": {
        "id": "GTACMIjweF6t",
        "colab_type": "code",
        "colab": {
          "base_uri": "https://localhost:8080/",
          "height": 195
        },
        "outputId": "cdf9301e-9ee3-4b7f-e428-bc928a4c25dd"
      },
      "source": [
        "#Mean of clusters 1 to 4\n",
        "kmeans_mean_cluster = pd.DataFrame(round(crime_rates.groupby('cluster').mean(),1))\n",
        "kmeans_mean_cluster"
      ],
      "execution_count": 42,
      "outputs": [
        {
          "output_type": "execute_result",
          "data": {
            "text/html": [
              "<div>\n",
              "<style scoped>\n",
              "    .dataframe tbody tr th:only-of-type {\n",
              "        vertical-align: middle;\n",
              "    }\n",
              "\n",
              "    .dataframe tbody tr th {\n",
              "        vertical-align: top;\n",
              "    }\n",
              "\n",
              "    .dataframe thead th {\n",
              "        text-align: right;\n",
              "    }\n",
              "</style>\n",
              "<table border=\"1\" class=\"dataframe\">\n",
              "  <thead>\n",
              "    <tr style=\"text-align: right;\">\n",
              "      <th></th>\n",
              "      <th>Murder</th>\n",
              "      <th>Assault</th>\n",
              "      <th>UrbanPop</th>\n",
              "      <th>Rape</th>\n",
              "    </tr>\n",
              "    <tr>\n",
              "      <th>cluster</th>\n",
              "      <th></th>\n",
              "      <th></th>\n",
              "      <th></th>\n",
              "      <th></th>\n",
              "    </tr>\n",
              "  </thead>\n",
              "  <tbody>\n",
              "    <tr>\n",
              "      <th>1</th>\n",
              "      <td>10.8</td>\n",
              "      <td>257.4</td>\n",
              "      <td>76.0</td>\n",
              "      <td>33.2</td>\n",
              "    </tr>\n",
              "    <tr>\n",
              "      <th>2</th>\n",
              "      <td>5.7</td>\n",
              "      <td>138.9</td>\n",
              "      <td>73.9</td>\n",
              "      <td>18.8</td>\n",
              "    </tr>\n",
              "    <tr>\n",
              "      <th>3</th>\n",
              "      <td>3.6</td>\n",
              "      <td>78.5</td>\n",
              "      <td>52.1</td>\n",
              "      <td>12.2</td>\n",
              "    </tr>\n",
              "    <tr>\n",
              "      <th>4</th>\n",
              "      <td>13.9</td>\n",
              "      <td>243.6</td>\n",
              "      <td>53.8</td>\n",
              "      <td>21.4</td>\n",
              "    </tr>\n",
              "  </tbody>\n",
              "</table>\n",
              "</div>"
            ],
            "text/plain": [
              "         Murder  Assault  UrbanPop  Rape\n",
              "cluster                                 \n",
              "1          10.8    257.4      76.0  33.2\n",
              "2           5.7    138.9      73.9  18.8\n",
              "3           3.6     78.5      52.1  12.2\n",
              "4          13.9    243.6      53.8  21.4"
            ]
          },
          "metadata": {
            "tags": []
          },
          "execution_count": 42
        }
      ]
    },
    {
      "cell_type": "code",
      "metadata": {
        "id": "d60s3Z0jeIPJ",
        "colab_type": "code",
        "colab": {
          "base_uri": "https://localhost:8080/",
          "height": 461
        },
        "outputId": "8fb139db-88de-45ff-823d-b18fcd18aec0"
      },
      "source": [
        "import seaborn as sns\n",
        "\n",
        "plt.figure(figsize=(12,6))\n",
        "sns.scatterplot(x=crime_rates['Murder'], y = crime_rates['Assault'],hue=y_kmeans1)"
      ],
      "execution_count": 43,
      "outputs": [
        {
          "output_type": "stream",
          "text": [
            "/usr/local/lib/python3.6/dist-packages/statsmodels/tools/_testing.py:19: FutureWarning: pandas.util.testing is deprecated. Use the functions in the public API at pandas.testing instead.\n",
            "  import pandas.util.testing as tm\n"
          ],
          "name": "stderr"
        },
        {
          "output_type": "execute_result",
          "data": {
            "text/plain": [
              "<matplotlib.axes._subplots.AxesSubplot at 0x7f1b9835de48>"
            ]
          },
          "metadata": {
            "tags": []
          },
          "execution_count": 43
        },
        {
          "output_type": "display_data",
          "data": {
            "image/png": "[encoded data removed]",
            "text/plain": [
              "<Figure size 864x432 with 1 Axes>"
            ]
          },
          "metadata": {
            "tags": [],
            "needs_background": "light"
          }
        }
      ]
    },
    {
      "cell_type": "code",
      "metadata": {
        "id": "t07hCqRKeLFv",
        "colab_type": "code",
        "colab": {
          "base_uri": "https://localhost:8080/",
          "height": 432
        },
        "outputId": "50da0f38-e68c-4b96-e2ac-5c7c5c006a6f"
      },
      "source": [
        "crime_rates[crime_rates['cluster']==1]"
      ],
      "execution_count": 44,
      "outputs": [
        {
          "output_type": "execute_result",
          "data": {
            "text/html": [
              "<div>\n",
              "<style scoped>\n",
              "    .dataframe tbody tr th:only-of-type {\n",
              "        vertical-align: middle;\n",
              "    }\n",
              "\n",
              "    .dataframe tbody tr th {\n",
              "        vertical-align: top;\n",
              "    }\n",
              "\n",
              "    .dataframe thead th {\n",
              "        text-align: right;\n",
              "    }\n",
              "</style>\n",
              "<table border=\"1\" class=\"dataframe\">\n",
              "  <thead>\n",
              "    <tr style=\"text-align: right;\">\n",
              "      <th></th>\n",
              "      <th>Murder</th>\n",
              "      <th>Assault</th>\n",
              "      <th>UrbanPop</th>\n",
              "      <th>Rape</th>\n",
              "      <th>cluster</th>\n",
              "    </tr>\n",
              "  </thead>\n",
              "  <tbody>\n",
              "    <tr>\n",
              "      <th>Alaska</th>\n",
              "      <td>10.0</td>\n",
              "      <td>263</td>\n",
              "      <td>48</td>\n",
              "      <td>44.5</td>\n",
              "      <td>1</td>\n",
              "    </tr>\n",
              "    <tr>\n",
              "      <th>Arizona</th>\n",
              "      <td>8.1</td>\n",
              "      <td>294</td>\n",
              "      <td>80</td>\n",
              "      <td>31.0</td>\n",
              "      <td>1</td>\n",
              "    </tr>\n",
              "    <tr>\n",
              "      <th>California</th>\n",
              "      <td>9.0</td>\n",
              "      <td>276</td>\n",
              "      <td>91</td>\n",
              "      <td>40.6</td>\n",
              "      <td>1</td>\n",
              "    </tr>\n",
              "    <tr>\n",
              "      <th>Colorado</th>\n",
              "      <td>7.9</td>\n",
              "      <td>204</td>\n",
              "      <td>78</td>\n",
              "      <td>38.7</td>\n",
              "      <td>1</td>\n",
              "    </tr>\n",
              "    <tr>\n",
              "      <th>Florida</th>\n",
              "      <td>15.4</td>\n",
              "      <td>335</td>\n",
              "      <td>80</td>\n",
              "      <td>31.9</td>\n",
              "      <td>1</td>\n",
              "    </tr>\n",
              "    <tr>\n",
              "      <th>Illinois</th>\n",
              "      <td>10.4</td>\n",
              "      <td>249</td>\n",
              "      <td>83</td>\n",
              "      <td>24.0</td>\n",
              "      <td>1</td>\n",
              "    </tr>\n",
              "    <tr>\n",
              "      <th>Maryland</th>\n",
              "      <td>11.3</td>\n",
              "      <td>300</td>\n",
              "      <td>67</td>\n",
              "      <td>27.8</td>\n",
              "      <td>1</td>\n",
              "    </tr>\n",
              "    <tr>\n",
              "      <th>Michigan</th>\n",
              "      <td>12.1</td>\n",
              "      <td>255</td>\n",
              "      <td>74</td>\n",
              "      <td>35.1</td>\n",
              "      <td>1</td>\n",
              "    </tr>\n",
              "    <tr>\n",
              "      <th>Missouri</th>\n",
              "      <td>9.0</td>\n",
              "      <td>178</td>\n",
              "      <td>70</td>\n",
              "      <td>28.2</td>\n",
              "      <td>1</td>\n",
              "    </tr>\n",
              "    <tr>\n",
              "      <th>Nevada</th>\n",
              "      <td>12.2</td>\n",
              "      <td>252</td>\n",
              "      <td>81</td>\n",
              "      <td>46.0</td>\n",
              "      <td>1</td>\n",
              "    </tr>\n",
              "    <tr>\n",
              "      <th>New Mexico</th>\n",
              "      <td>11.4</td>\n",
              "      <td>285</td>\n",
              "      <td>70</td>\n",
              "      <td>32.1</td>\n",
              "      <td>1</td>\n",
              "    </tr>\n",
              "    <tr>\n",
              "      <th>New York</th>\n",
              "      <td>11.1</td>\n",
              "      <td>254</td>\n",
              "      <td>86</td>\n",
              "      <td>26.1</td>\n",
              "      <td>1</td>\n",
              "    </tr>\n",
              "    <tr>\n",
              "      <th>Texas</th>\n",
              "      <td>12.7</td>\n",
              "      <td>201</td>\n",
              "      <td>80</td>\n",
              "      <td>25.5</td>\n",
              "      <td>1</td>\n",
              "    </tr>\n",
              "  </tbody>\n",
              "</table>\n",
              "</div>"
            ],
            "text/plain": [
              "            Murder  Assault  UrbanPop  Rape  cluster\n",
              "Alaska        10.0      263        48  44.5        1\n",
              "Arizona        8.1      294        80  31.0        1\n",
              "California     9.0      276        91  40.6        1\n",
              "Colorado       7.9      204        78  38.7        1\n",
              "Florida       15.4      335        80  31.9        1\n",
              "Illinois      10.4      249        83  24.0        1\n",
              "Maryland      11.3      300        67  27.8        1\n",
              "Michigan      12.1      255        74  35.1        1\n",
              "Missouri       9.0      178        70  28.2        1\n",
              "Nevada        12.2      252        81  46.0        1\n",
              "New Mexico    11.4      285        70  32.1        1\n",
              "New York      11.1      254        86  26.1        1\n",
              "Texas         12.7      201        80  25.5        1"
            ]
          },
          "metadata": {
            "tags": []
          },
          "execution_count": 44
        }
      ]
    },
    {
      "cell_type": "code",
      "metadata": {
        "id": "WmXOG3vseNmZ",
        "colab_type": "code",
        "colab": {
          "base_uri": "https://localhost:8080/",
          "height": 34
        },
        "outputId": "53ca65b4-bbca-4b98-b9f2-a5174a273376"
      },
      "source": [
        "from IPython.display import HTML\n",
        "import base64\n",
        "\n",
        "df = crime_rates\n",
        "def create_download_link( df, title = \"Download CSV file\", filename = \"data.csv\"):  \n",
        "    csv = df.to_csv()\n",
        "    b64 = base64.b64encode(csv.encode())\n",
        "    payload = b64.decode()\n",
        "    html = '<a download=\"{filename}\" href=\"data:text/csv;base64,{payload}\" target=\"_blank\">{title}</a>'\n",
        "    html = html.format(payload=payload,title=title,filename=filename)\n",
        "    return HTML(html)\n",
        "\n",
        "create_download_link(df)"
      ],
      "execution_count": 45,
      "outputs": [
        {
          "output_type": "execute_result",
          "data": {
            "text/html": [
              "<a download=\"data.csv\" href=\"data:text/csv;base64,LE11cmRlcixBc3NhdWx0LFVyYmFuUG9wLFJhcGUsY2x1c3RlcgpBbGFiYW1hLDEzLjIsMjM2LDU4LDIxLjIsNApBbGFza2EsMTAuMCwyNjMsNDgsNDQuNSwxCkFyaXpvbmEsOC4xLDI5NCw4MCwzMS4wLDEKQXJrYW5zYXMsOC44LDE5MCw1MCwxOS41LDQKQ2FsaWZvcm5pYSw5LjAsMjc2LDkxLDQwLjYsMQpDb2xvcmFkbyw3LjksMjA0LDc4LDM4LjcsMQpDb25uZWN0aWN1dCwzLjMsMTEwLDc3LDExLjEsMgpEZWxhd2FyZSw1LjksMjM4LDcyLDE1LjgsMgpGbG9yaWRhLDE1LjQsMzM1LDgwLDMxLjksMQpHZW9yZ2lhLDE3LjQsMjExLDYwLDI1LjgsNApIYXdhaWksNS4zLDQ2LDgzLDIwLjIsMgpJZGFobywyLjYsMTIwLDU0LDE0LjIsMwpJbGxpbm9pcywxMC40LDI0OSw4MywyNC4wLDEKSW5kaWFuYSw3LjIsMTEzLDY1LDIxLjAsMgpJb3dhLDIuMiw1Niw1NywxMS4zLDMKS2Fuc2FzLDYuMCwxMTUsNjYsMTguMCwyCktlbnR1Y2t5LDkuNywxMDksNTIsMTYuMywzCkxvdWlzaWFuYSwxNS40LDI0OSw2NiwyMi4yLDQKTWFpbmUsMi4xLDgzLDUxLDcuOCwzCk1hcnlsYW5kLDExLjMsMzAwLDY3LDI3LjgsMQpNYXNzYWNodXNldHRzLDQuNCwxNDksODUsMTYuMywyCk1pY2hpZ2FuLDEyLjEsMjU1LDc0LDM1LjEsMQpNaW5uZXNvdGEsMi43LDcyLDY2LDE0LjksMwpNaXNzaXNzaXBwaSwxNi4xLDI1OSw0NCwxNy4xLDQKTWlzc291cmksOS4wLDE3OCw3MCwyOC4yLDEKTW9udGFuYSw2LjAsMTA5LDUzLDE2LjQsMwpOZWJyYXNrYSw0LjMsMTAyLDYyLDE2LjUsMwpOZXZhZGEsMTIuMiwyNTIsODEsNDYuMCwxCk5ldyBIYW1wc2hpcmUsMi4xLDU3LDU2LDkuNSwzCk5ldyBKZXJzZXksNy40LDE1OSw4OSwxOC44LDIKTmV3IE1leGljbywxMS40LDI4NSw3MCwzMi4xLDEKTmV3IFlvcmssMTEuMSwyNTQsODYsMjYuMSwxCk5vcnRoIENhcm9saW5hLDEzLjAsMzM3LDQ1LDE2LjEsNApOb3J0aCBEYWtvdGEsMC44LDQ1LDQ0LDcuMywzCk9oaW8sNy4zLDEyMCw3NSwyMS40LDIKT2tsYWhvbWEsNi42LDE1MSw2OCwyMC4wLDIKT3JlZ29uLDQuOSwxNTksNjcsMjkuMywyClBlbm5zeWx2YW5pYSw2LjMsMTA2LDcyLDE0LjksMgpSaG9kZSBJc2xhbmQsMy40LDE3NCw4Nyw4LjMsMgpTb3V0aCBDYXJvbGluYSwxNC40LDI3OSw0OCwyMi41LDQKU291dGggRGFrb3RhLDMuOCw4Niw0NSwxMi44LDMKVGVubmVzc2VlLDEzLjIsMTg4LDU5LDI2LjksNApUZXhhcywxMi43LDIwMSw4MCwyNS41LDEKVXRhaCwzLjIsMTIwLDgwLDIyLjksMgpWZXJtb250LDIuMiw0OCwzMiwxMS4yLDMKVmlyZ2luaWEsOC41LDE1Niw2MywyMC43LDIKV2FzaGluZ3Rvbiw0LjAsMTQ1LDczLDI2LjIsMgpXZXN0IFZpcmdpbmlhLDUuNyw4MSwzOSw5LjMsMwpXaXNjb25zaW4sMi42LDUzLDY2LDEwLjgsMwpXeW9taW5nLDYuOCwxNjEsNjAsMTUuNiwyCg==\" target=\"_blank\">Download CSV file</a>"
            ],
            "text/plain": [
              "<IPython.core.display.HTML object>"
            ]
          },
          "metadata": {
            "tags": []
          },
          "execution_count": 45
        }
      ]
    },
    {
      "cell_type": "code",
      "metadata": {
        "id": "PcEs1WUWeQsg",
        "colab_type": "code",
        "colab": {
          "base_uri": "https://localhost:8080/",
          "height": 17
        },
        "outputId": "f2bcdaff-3f46-400c-cb6d-28e7c89fa86b"
      },
      "source": [
        "%%HTML\n",
        "\n",
        "<div class='tableauPlaceholder' id='viz1558006161579' style='position: relative'>\n",
        "<noscript>\n",
        "<a href='#'>\n",
        "<img alt=' ' src='https:&#47;&#47;public.tableau.com&#47;static&#47;images&#47;US&#47;USCrimeRatesClusters&#47;Dashboard&#47;1_rss.png' style='border: none' /></a>\n",
        "</noscript>\n",
        "\n",
        "<object class='tableauViz'  style='display:none;'>\n",
        "<param name='host_url' value='https%3A%2F%2Fpublic.tableau.com%2F' />\n",
        "<param name='embed_code_version' value='3' />\n",
        "<param name='site_root' value='' />\n",
        "<param name='name' value='USCrimeRatesClusters&#47;Dashboard' />\n",
        "<param name='tabs' value='no' />\n",
        "<param name='toolbar' value='yes' />\n",
        "<param name='static_image' value='https:&#47;&#47;public.tableau.com&#47;static&#47;images&#47;US&#47;USCrimeRatesClusters&#47;Dashboard&#47;1.png' /> <param name='animate_transition' value='yes' />\n",
        "<param name='display_static_image' value='yes' />\n",
        "<param name='display_spinner' value='yes' />\n",
        "<param name='display_overlay' value='yes' />\n",
        "<param name='display_count' value='yes' />\n",
        "</object>\n",
        "</div>               \n",
        "<script type='text/javascript'> "
      ],
      "execution_count": 47,
      "outputs": [
        {
          "output_type": "display_data",
          "data": {
            "text/html": [
              "\n",
              "<div class='tableauPlaceholder' id='viz1558006161579' style='position: relative'>\n",
              "<noscript>\n",
              "<a href='#'>\n",
              "<img alt=' ' src='https:&#47;&#47;public.tableau.com&#47;static&#47;images&#47;US&#47;USCrimeRatesClusters&#47;Dashboard&#47;1_rss.png' style='border: none' /></a>\n",
              "</noscript>\n",
              "\n",
              "<object class='tableauViz'  style='display:none;'>\n",
              "<param name='host_url' value='https%3A%2F%2Fpublic.tableau.com%2F' />\n",
              "<param name='embed_code_version' value='3' />\n",
              "<param name='site_root' value='' />\n",
              "<param name='name' value='USCrimeRatesClusters&#47;Dashboard' />\n",
              "<param name='tabs' value='no' />\n",
              "<param name='toolbar' value='yes' />\n",
              "<param name='static_image' value='https:&#47;&#47;public.tableau.com&#47;static&#47;images&#47;US&#47;USCrimeRatesClusters&#47;Dashboard&#47;1.png' /> <param name='animate_transition' value='yes' />\n",
              "<param name='display_static_image' value='yes' />\n",
              "<param name='display_spinner' value='yes' />\n",
              "<param name='display_overlay' value='yes' />\n",
              "<param name='display_count' value='yes' />\n",
              "</object>\n",
              "</div>               \n",
              "<script type='text/javascript'> "
            ],
            "text/plain": [
              "<IPython.core.display.HTML object>"
            ]
          },
          "metadata": {
            "tags": []
          }
        }
      ]
    }
  ]
}